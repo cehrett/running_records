{
 "cells": [
  {
   "cell_type": "code",
   "execution_count": 118,
   "metadata": {},
   "outputs": [],
   "source": [
    "# Load and open the English sentences in the tar file\n",
    "\n",
    "# Load the Romanian/English sentence pairs\n",
    "import tarfile\n",
    "filename = '.\\\\data\\\\ro-en.tgz'\n",
    "tar = tarfile.open(filename, 'r:gz')\n",
    "\n",
    "# Extract the sentences\n",
    "for i,item in enumerate(tar):\n",
    "    tar.extract(item)\n",
    "\n",
    "# Open the English sentences\n",
    "import pandas as pd\n",
    "df = pd.read_csv('europarl-v7.ro-en.en',sep='\\t',header=None)"
   ]
  },
  {
   "cell_type": "code",
   "execution_count": 121,
   "metadata": {},
   "outputs": [],
   "source": [
    "# Format the DF\n",
    "\n",
    "# Drop the first and last few lines\n",
    "df=df[50:-50]\n",
    "\n",
    "# Drop all lines below n characters in length\n",
    "n = 40\n",
    "df = df[df[0].apply(lambda x: len(x)>=n )].reset_index(drop=True)\n",
    "\n",
    "# Shuffle\n",
    "df = df.sample(frac=1,random_state=355).reset_index(drop=True)"
   ]
  },
  {
   "cell_type": "code",
   "execution_count": 125,
   "metadata": {},
   "outputs": [],
   "source": [
    "# Save file, in case we need to create another version of the CSV file\n",
    "# This cell is commented because it is only here as a utility; uncomment if needed\n",
    "\n",
    "# filename = '.\\\\data\\\\europarl_english_sentence_samples.csv'\n",
    "# df.to_csv(filename,header=False,index=True)"
   ]
  },
  {
   "cell_type": "markdown",
   "metadata": {},
   "source": [
    "## Continue data generation\n",
    "\n",
    "This section is used to generate the data a few samples at a time."
   ]
  },
  {
   "cell_type": "code",
   "execution_count": null,
   "metadata": {},
   "outputs": [],
   "source": [
    "# Choose which type of data to generate\n",
    "mutation_type = \"rep\"\n",
    "# mutation_type = \"del\"\n",
    "# mutation_type = \"sub\"\n",
    "\n",
    "# This variable determines which mutation is applied to the data. To change what a type means or\n",
    "# to add a type, see text_mutation_generation.py:mutate_selectively.\n",
    "\n",
    "# In addition, this notebook creates the following files based on this variable:\n",
    "\n",
    "# data\\sentences_to_be_processed_{mutation_type}.csv\n",
    "# e.g. sentences_to_be_processed_rep.csv -> sentences still to be processed for repetition data\n",
    "\n",
    "# data\\generated_data_{mutation_type}.csv\n",
    "# e.g. generated_data_del.csv -> generated deletion data"
   ]
  },
  {
   "cell_type": "code",
   "execution_count": 2,
   "metadata": {
    "pycharm": {
     "is_executing": true
    }
   },
   "outputs": [],
   "source": [
    "# Load and clean the sentences\n",
    "\n",
    "# Load the list of sentences still to be processed\n",
    "import pandas as pd\n",
    "filename_to_be_processed = f'.\\\\data\\\\sentences_to_be_processed_{mutation_type}.csv'\n",
    "df = pd.read_csv(filename_to_be_processed, header=None, names = ['sentence'])\n",
    "\n",
    "# Some of the sentences have nation abbreviations in them, like \"(DE)\". Remove these:\n",
    "df.sentence = df.sentence.str.replace(r'\\([A-Z]{2}\\)','')"
   ]
  },
  {
   "cell_type": "code",
   "execution_count": 54,
   "metadata": {
    "pycharm": {
     "name": "#%%\n"
    }
   },
   "outputs": [],
   "source": [
    "# Pull off the portion to be used for generation now.\n",
    "n = 100\n",
    "df_still_to_be_processed = df[n:] # Once we're done here, we'll save this for next time.\n",
    "df = df[:n]"
   ]
  },
  {
   "cell_type": "code",
   "execution_count": 55,
   "metadata": {},
   "outputs": [],
   "source": [
    "# Generate data using the current portion.\n",
    "from mutation_dataset_generator import create_dataset\n",
    "\n",
    "start_idx = df.index[0] # Used for labelling the audio files"
   ]
  },
  {
   "cell_type": "code",
   "execution_count": null,
   "metadata": {
    "pycharm": {
     "name": "#%%\n"
    }
   },
   "outputs": [],
   "source": [
    "df_new_samples = create_dataset(df.sentence.values, 'europarl_sentence', mutation_type, start_idx=start_idx)"
   ]
  },
  {
   "cell_type": "code",
   "execution_count": 57,
   "metadata": {},
   "outputs": [
    {
     "data": {
      "text/html": [
       "<div>\n",
       "<style scoped>\n",
       "    .dataframe tbody tr th:only-of-type {\n",
       "        vertical-align: middle;\n",
       "    }\n",
       "\n",
       "    .dataframe tbody tr th {\n",
       "        vertical-align: top;\n",
       "    }\n",
       "\n",
       "    .dataframe thead th {\n",
       "        text-align: right;\n",
       "    }\n",
       "</style>\n",
       "<table border=\"1\" class=\"dataframe\">\n",
       "  <thead>\n",
       "    <tr style=\"text-align: right;\">\n",
       "      <th></th>\n",
       "      <th>true_text</th>\n",
       "      <th>tags</th>\n",
       "      <th>filepath</th>\n",
       "      <th>asr</th>\n",
       "    </tr>\n",
       "  </thead>\n",
       "  <tbody>\n",
       "    <tr>\n",
       "      <th>0</th>\n",
       "      <td>My group therefore has its own resolution.</td>\n",
       "      <td>[O, O, RB2, RI2, RB2, RI2, O]</td>\n",
       "      <td>.\\data\\audio\\europarl_sentence486.wav</td>\n",
       "      <td>virut therefore has therefore has its own its ...</td>\n",
       "    </tr>\n",
       "    <tr>\n",
       "      <th>1</th>\n",
       "      <td>I should like to take advantage of the Commiss...</td>\n",
       "      <td>[O, O, O, O, RB3, O, O, O, O, RB2, RI2, RI2, R...</td>\n",
       "      <td>.\\data\\audio\\europarl_sentence487.wav</td>\n",
       "      <td>ishould like to  tae take advantage of the com...</td>\n",
       "    </tr>\n",
       "    <tr>\n",
       "      <th>2</th>\n",
       "      <td>Vice-President of the Commission. - Mr Preside...</td>\n",
       "      <td>[RB3, RI3, RI3, RI3, RI3, RI3, RI3, RI3, O, O,...</td>\n",
       "      <td>.\\data\\audio\\europarl_sentence488.wav</td>\n",
       "      <td>last president of the commission mister presid...</td>\n",
       "    </tr>\n",
       "    <tr>\n",
       "      <th>3</th>\n",
       "      <td>Member of the Commission. - Madam President, i...</td>\n",
       "      <td>[O, O, O, O, RB2, RI2, RI2, RI2, RI2, RI2, RI2...</td>\n",
       "      <td>.\\data\\audio\\europarl_sentence489.wav</td>\n",
       "      <td>member of the commission madam president it is...</td>\n",
       "    </tr>\n",
       "    <tr>\n",
       "      <th>4</th>\n",
       "      <td>The various discounts that are granted to the ...</td>\n",
       "      <td>[O, O, O, O, RB3, RI3, RI3, RB3, RI3, RI3, RI3...</td>\n",
       "      <td>.\\data\\audio\\europarl_sentence490.wav</td>\n",
       "      <td>the various disfounts that are granted to our ...</td>\n",
       "    </tr>\n",
       "    <tr>\n",
       "      <th>...</th>\n",
       "      <td>...</td>\n",
       "      <td>...</td>\n",
       "      <td>...</td>\n",
       "      <td>...</td>\n",
       "    </tr>\n",
       "    <tr>\n",
       "      <th>95</th>\n",
       "      <td>This issue is not new and raises regular quest...</td>\n",
       "      <td>[O, O, O, RB3, RI3, RI3, RI3, RI3, O, O, RB3, ...</td>\n",
       "      <td>.\\data\\audio\\europarl_sentence581.wav</td>\n",
       "      <td>this issue is not new and rais is regular not ...</td>\n",
       "    </tr>\n",
       "    <tr>\n",
       "      <th>96</th>\n",
       "      <td>Ultimately, however, Parliament gave way, with...</td>\n",
       "      <td>[O, O, O, O, O, O, O, O, O, O, O, O, RB2, RI2,...</td>\n",
       "      <td>.\\data\\audio\\europarl_sentence582.wav</td>\n",
       "      <td>ultimately however parliament gave way with th...</td>\n",
       "    </tr>\n",
       "    <tr>\n",
       "      <th>97</th>\n",
       "      <td>The joint declaration of 16 April issued by al...</td>\n",
       "      <td>[RB3, RI3, RI3, RI3, RI3, O, O, O, O, O, O, O,...</td>\n",
       "      <td>.\\data\\audio\\europarl_sentence583.wav</td>\n",
       "      <td>the joint declaration of suxceeing the joint d...</td>\n",
       "    </tr>\n",
       "    <tr>\n",
       "      <th>98</th>\n",
       "      <td>I appeal to the European Commission to ensure ...</td>\n",
       "      <td>[O, RB3, RI3, RI3, RI3, RI3, RI3, RI3, RI3, RI...</td>\n",
       "      <td>.\\data\\audio\\europarl_sentence584.wav</td>\n",
       "      <td>appealed to the european commission to ensure...</td>\n",
       "    </tr>\n",
       "    <tr>\n",
       "      <th>99</th>\n",
       "      <td>Cooperation at regional level must be transpar...</td>\n",
       "      <td>[O, O, O, O, O, RB2, RI2, RI2, RI2, O, O, O, R...</td>\n",
       "      <td>.\\data\\audio\\europarl_sentence585.wav</td>\n",
       "      <td>cooperation at regional level must be transpar...</td>\n",
       "    </tr>\n",
       "  </tbody>\n",
       "</table>\n",
       "<p>100 rows × 4 columns</p>\n",
       "</div>"
      ],
      "text/plain": [
       "                                            true_text  \\\n",
       "0          My group therefore has its own resolution.   \n",
       "1   I should like to take advantage of the Commiss...   \n",
       "2   Vice-President of the Commission. - Mr Preside...   \n",
       "3   Member of the Commission. - Madam President, i...   \n",
       "4   The various discounts that are granted to the ...   \n",
       "..                                                ...   \n",
       "95  This issue is not new and raises regular quest...   \n",
       "96  Ultimately, however, Parliament gave way, with...   \n",
       "97  The joint declaration of 16 April issued by al...   \n",
       "98  I appeal to the European Commission to ensure ...   \n",
       "99  Cooperation at regional level must be transpar...   \n",
       "\n",
       "                                                 tags  \\\n",
       "0                       [O, O, RB2, RI2, RB2, RI2, O]   \n",
       "1   [O, O, O, O, RB3, O, O, O, O, RB2, RI2, RI2, R...   \n",
       "2   [RB3, RI3, RI3, RI3, RI3, RI3, RI3, RI3, O, O,...   \n",
       "3   [O, O, O, O, RB2, RI2, RI2, RI2, RI2, RI2, RI2...   \n",
       "4   [O, O, O, O, RB3, RI3, RI3, RB3, RI3, RI3, RI3...   \n",
       "..                                                ...   \n",
       "95  [O, O, O, RB3, RI3, RI3, RI3, RI3, O, O, RB3, ...   \n",
       "96  [O, O, O, O, O, O, O, O, O, O, O, O, RB2, RI2,...   \n",
       "97  [RB3, RI3, RI3, RI3, RI3, O, O, O, O, O, O, O,...   \n",
       "98  [O, RB3, RI3, RI3, RI3, RI3, RI3, RI3, RI3, RI...   \n",
       "99  [O, O, O, O, O, RB2, RI2, RI2, RI2, O, O, O, R...   \n",
       "\n",
       "                                 filepath  \\\n",
       "0   .\\data\\audio\\europarl_sentence486.wav   \n",
       "1   .\\data\\audio\\europarl_sentence487.wav   \n",
       "2   .\\data\\audio\\europarl_sentence488.wav   \n",
       "3   .\\data\\audio\\europarl_sentence489.wav   \n",
       "4   .\\data\\audio\\europarl_sentence490.wav   \n",
       "..                                    ...   \n",
       "95  .\\data\\audio\\europarl_sentence581.wav   \n",
       "96  .\\data\\audio\\europarl_sentence582.wav   \n",
       "97  .\\data\\audio\\europarl_sentence583.wav   \n",
       "98  .\\data\\audio\\europarl_sentence584.wav   \n",
       "99  .\\data\\audio\\europarl_sentence585.wav   \n",
       "\n",
       "                                                  asr  \n",
       "0   virut therefore has therefore has its own its ...  \n",
       "1   ishould like to  tae take advantage of the com...  \n",
       "2   last president of the commission mister presid...  \n",
       "3   member of the commission madam president it is...  \n",
       "4   the various disfounts that are granted to our ...  \n",
       "..                                                ...  \n",
       "95  this issue is not new and rais is regular not ...  \n",
       "96  ultimately however parliament gave way with th...  \n",
       "97  the joint declaration of suxceeing the joint d...  \n",
       "98   appealed to the european commission to ensure...  \n",
       "99  cooperation at regional level must be transpar...  \n",
       "\n",
       "[100 rows x 4 columns]"
      ]
     },
     "execution_count": 57,
     "metadata": {},
     "output_type": "execute_result"
    }
   ],
   "source": [
    "# Verify the new samples look okay\n",
    "df_new_samples"
   ]
  },
  {
   "cell_type": "code",
   "execution_count": 58,
   "metadata": {},
   "outputs": [],
   "source": [
    "# Load the existing data (true text and asr transcripts)\n",
    "filename_existing = f'.\\\\data\\\\generated_data_{mutation_type}.csv'\n",
    "df_existing_data = pd.read_csv(filename_existing, header=None, index_col=0, names=['true_text','tags','filepath','asr'])"
   ]
  },
  {
   "cell_type": "code",
   "execution_count": 59,
   "metadata": {},
   "outputs": [],
   "source": [
    "# Concatenate previous data with current data\n",
    "df_all_data = pd.concat([df_existing_data, df_new_samples]).reset_index(drop=True)"
   ]
  },
  {
   "cell_type": "code",
   "execution_count": 60,
   "metadata": {},
   "outputs": [
    {
     "name": "stdout",
     "output_type": "stream",
     "text": [
      "(586, 4)\n",
      "(486, 4)\n",
      "(100, 4)\n",
      "(365741, 1)\n"
     ]
    }
   ],
   "source": [
    "#scr check\n",
    "print(df_all_data.shape)\n",
    "print(df_existing_data.shape)\n",
    "print(df_new_samples.shape)\n",
    "print(df_still_to_be_processed.shape)"
   ]
  },
  {
   "cell_type": "code",
   "execution_count": 61,
   "metadata": {},
   "outputs": [],
   "source": [
    "# Save the concatenated previous with current data (overwriting old version)\n",
    "df_all_data.to_csv(filename_existing,header=False,index=True)"
   ]
  },
  {
   "cell_type": "code",
   "execution_count": 62,
   "metadata": {},
   "outputs": [],
   "source": [
    "# Save the list of sentences to be processed (overwriting old version)\n",
    "df_still_to_be_processed.to_csv(filename_to_be_processed,header=False,index=True)"
   ]
  }
 ],
 "metadata": {
  "kernelspec": {
   "display_name": "Python 3",
   "language": "python",
   "name": "python3"
  },
  "language_info": {
   "codemirror_mode": {
    "name": "ipython",
    "version": 3
   },
   "file_extension": ".py",
   "mimetype": "text/x-python",
   "name": "python",
   "nbconvert_exporter": "python",
   "pygments_lexer": "ipython3",
   "version": "3.7.9"
  }
 },
 "nbformat": 4,
 "nbformat_minor": 1
}
