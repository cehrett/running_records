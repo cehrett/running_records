version https://git-lfs.github.com/spec/v1
oid sha256:c4558d005e2478081d66dd20e31c3a3c3ae59a16505de573fde26d0233a22168
size 14684
