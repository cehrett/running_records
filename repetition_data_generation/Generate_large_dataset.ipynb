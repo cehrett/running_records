version https://git-lfs.github.com/spec/v1
oid sha256:9e4e5c3a1a6fe361079646d1be149f8fb758e308f49a72674184f4eb222546bf
size 311580
