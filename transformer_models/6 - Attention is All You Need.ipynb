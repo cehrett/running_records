version https://git-lfs.github.com/spec/v1
oid sha256:c3702ea98c775b8f93224fe0aeddbc6a7dd4dce1e6a1c67b3ae68b8a42c30be1
size 360584
