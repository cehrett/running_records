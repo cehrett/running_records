version https://git-lfs.github.com/spec/v1
oid sha256:3cb940f327437830a2c05f7dd1868c1a01f870b0d5ba6dcde90b85a47e885e79
size 90899
