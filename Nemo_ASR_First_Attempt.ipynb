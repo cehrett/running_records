version https://git-lfs.github.com/spec/v1
oid sha256:bf3c70d881238522608e00419093ad44d7cbfa24545617f9bcb2974ea7fc953c
size 4099572
