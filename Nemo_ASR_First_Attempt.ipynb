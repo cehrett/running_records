version https://git-lfs.github.com/spec/v1
oid sha256:3f60081de33e9b529779d014d95fd6ef6fd1909366aa20c62f2d6ff05eeae6f9
size 4056538
