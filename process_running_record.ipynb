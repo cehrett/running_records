version https://git-lfs.github.com/spec/v1
oid sha256:8ef6db7671b4b27001455c09b537213138e07cdbd00096c560fc7607aa8cf077
size 19394
