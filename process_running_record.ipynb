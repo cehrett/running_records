version https://git-lfs.github.com/spec/v1
oid sha256:97ed81a25a5f7985ae7701773d3b4e893dc70fe7851ca1bd24f6326e141d03c1
size 29715
